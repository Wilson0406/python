{
 "cells": [
  {
   "cell_type": "code",
   "execution_count": 1,
   "id": "de2a45af",
   "metadata": {},
   "outputs": [],
   "source": [
    "import math\n",
    "import re\n",
    "import nltk\n",
    "import string\n",
    "#nltk.download('punkt')\n",
    "#nltk.download('stopwords')\n",
    "from nltk.tokenize import word_tokenize\n",
    "from nltk.corpus import stopwords"
   ]
  },
  {
   "cell_type": "code",
   "execution_count": 2,
   "id": "a6e71fc1",
   "metadata": {},
   "outputs": [],
   "source": [
    "\"\"\"documents = [\n",
    "    \"Selenium is a portable framework for testing web applications\",\n",
    "    \"Beautiful Soup is useful for web scraping\",\n",
    "    \"It is a python package for parsing the pages\"\n",
    "]\"\"\"\n",
    "documents = [\n",
    "    \"dictionary structure compression\",\n",
    "    \"block structure sorting\",\n",
    "    \"block expensive structure\"\n",
    "]"
   ]
  },
  {
   "cell_type": "code",
   "execution_count": 3,
   "id": "841234fb",
   "metadata": {},
   "outputs": [],
   "source": [
    "def preprocess(txt):\n",
    "    s = txt\n",
    "    s = s.lower()\n",
    "    s = re.sub(r'\\d+', '',s)\n",
    "    s = s.replace('/[^A-Za-z0-9]/g', '')\n",
    "    s = s.strip()\n",
    "    words = word_tokenize(s)\n",
    "    stop_words = set(stopwords.words('english'))\n",
    "    words = [word for word in words if word not in stop_words]\n",
    "    return words\n",
    "\n",
    "def findoccurences(txt,word):\n",
    "    txt = txt.replace('/[^A-Za-z0-9]/g', '')\n",
    "    txt = txt.replace('  ',' ')\n",
    "    txt = txt.lower()\n",
    "    txt_words = txt.strip().split()\n",
    "    \n",
    "    word_count = 0\n",
    "    word_positions = []\n",
    "    \n",
    "    for i in range(len(txt_words)):\n",
    "        if word == txt_words[i]:\n",
    "            word_count += 1\n",
    "            word_positions.append(i)\n",
    "            \n",
    "    return (word_count, word_positions)"
   ]
  },
  {
   "cell_type": "code",
   "execution_count": 4,
   "id": "b256190d",
   "metadata": {},
   "outputs": [
    {
     "name": "stdout",
     "output_type": "stream",
     "text": [
      "Inverted Index: \n",
      "('dictionary', [(1, 1, [0])])\n",
      "('structure', [(1, 1, [1]), (2, 1, [1]), (3, 1, [2])])\n",
      "('compression', [(1, 1, [2])])\n",
      "('block', [(2, 1, [0]), (3, 1, [0])])\n",
      "('sorting', [(2, 1, [2])])\n",
      "('expensive', [(3, 1, [1])])\n"
     ]
    }
   ],
   "source": [
    "inverted_index = {}\n",
    "for (i,doc) in enumerate(documents):\n",
    "    words = preprocess(doc)\n",
    "    \n",
    "    for word in words:\n",
    "        if word not in inverted_index:\n",
    "            inverted_index[word] = []\n",
    "            \n",
    "        occurence_count, occurence_pos_list = findoccurences(doc, word)\n",
    "        \n",
    "        inverted_index[word].append(((i+1), occurence_count, occurence_pos_list))\n",
    "\n",
    "print('Inverted Index: ')\n",
    "for item in inverted_index.items():\n",
    "    print(item)"
   ]
  },
  {
   "cell_type": "code",
   "execution_count": 5,
   "id": "fe530394",
   "metadata": {},
   "outputs": [],
   "source": [
    "def eliasGammaEncoding(n):\n",
    "    if n == 0:\n",
    "        return \"0\"\n",
    "\n",
    "    num = binary(n)\n",
    "    \n",
    "    num = ('0' * (len(num) -1)) + num\n",
    "    \n",
    "    return num"
   ]
  },
  {
   "cell_type": "code",
   "execution_count": 6,
   "id": "e0af8c73",
   "metadata": {},
   "outputs": [
    {
     "name": "stdout",
     "output_type": "stream",
     "text": [
      "Binary Encoding Map: \n",
      "(1, '1')\n",
      "(0, '0')\n",
      "(2, '10')\n",
      "(3, '11')\n"
     ]
    }
   ],
   "source": [
    "def eliasDeltaEncoding(n):\n",
    "    if n == 0:\n",
    "        return \"0\"\n",
    "    num1 = 1 + int(math.log2(n))\n",
    "    num1 = eliasGammaEncoding(num1)\n",
    "    \n",
    "    num2 = binary(n)\n",
    "    num2 = str(num2)[1:]\n",
    "    \n",
    "    num = num1 + num2\n",
    "    \n",
    "    return num\n",
    "\n",
    "def binary(n) :\n",
    "    \n",
    "    num = bin(n)\n",
    "    \n",
    "    num = num[2:]\n",
    "    \n",
    "    return num\n",
    "\n",
    "def indexCompression(inverted_index, encoding_scheme):\n",
    "    \n",
    "    compression_map = {}\n",
    "    \n",
    "    for word_indices in inverted_index.values():\n",
    "        for word_index in word_indices:\n",
    "            i, count, positions = word_index\n",
    "            arr = [i, count] + positions\n",
    "            \n",
    "            for n in arr:\n",
    "                if n not in compression_map:\n",
    "                    if encoding_scheme == 'ELIAS_DELTA' :\n",
    "                        compression_map[n] = eliasDeltaEncoding(n)\n",
    "                    elif encoding_scheme == 'VARIABLE_BYTE' :\n",
    "                        compression_map[n] = variableByteEncoding(n)\n",
    "                    elif encoding_scheme == 'BINARY_ENCODING' :\n",
    "                        compression_map[n] = binary(n)\n",
    "                        \n",
    "    return compression_map\n",
    "\n",
    "bin_encoding_compression_map = indexCompression(inverted_index, 'BINARY_ENCODING')\n",
    "\n",
    "print(\"Binary Encoding Map: \")\n",
    "for item in bin_encoding_compression_map.items():\n",
    "    print(item)"
   ]
  },
  {
   "cell_type": "code",
   "execution_count": 7,
   "id": "6cf56567",
   "metadata": {},
   "outputs": [
    {
     "name": "stdout",
     "output_type": "stream",
     "text": [
      "Elias Delta Encoding Map: \n",
      "(1, '1')\n",
      "(0, '0')\n",
      "(2, '0100')\n",
      "(3, '0101')\n"
     ]
    }
   ],
   "source": [
    "elias_delta_compression_map = indexCompression(inverted_index, 'ELIAS_DELTA')\n",
    "\n",
    "print(\"Elias Delta Encoding Map: \")\n",
    "for item in elias_delta_compression_map.items():\n",
    "    print(item)"
   ]
  },
  {
   "cell_type": "code",
   "execution_count": null,
   "id": "985ee529",
   "metadata": {},
   "outputs": [],
   "source": []
  }
 ],
 "metadata": {
  "kernelspec": {
   "display_name": "Python 3",
   "language": "python",
   "name": "python3"
  },
  "language_info": {
   "codemirror_mode": {
    "name": "ipython",
    "version": 3
   },
   "file_extension": ".py",
   "mimetype": "text/x-python",
   "name": "python",
   "nbconvert_exporter": "python",
   "pygments_lexer": "ipython3",
   "version": "3.8.8"
  }
 },
 "nbformat": 4,
 "nbformat_minor": 5
}
