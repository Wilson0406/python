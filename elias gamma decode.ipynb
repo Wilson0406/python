{
 "cells": [
  {
   "cell_type": "code",
   "execution_count": 1,
   "id": "2724af09",
   "metadata": {},
   "outputs": [
    {
     "name": "stdout",
     "output_type": "stream",
     "text": [
      "9\n"
     ]
    }
   ],
   "source": [
    "# import the math module\n",
    "import math\n",
    "\n",
    "# function\n",
    "def Elias_Gamma_Decoding(x):\n",
    "    x = list(x)\n",
    "    K = 0\n",
    "    while True:\n",
    "        if not x[K] == '0':\n",
    "            break\n",
    "        K = K + 1\n",
    "    \n",
    "    # Reading K more bits from '1'\n",
    "    x = x[K:2*K+1]\n",
    "\n",
    "    n = 0\n",
    "    x.reverse()\n",
    "    \n",
    "    # Converting binary to integer\n",
    "    for i in range(len(x)):\n",
    "        if x[i] == '1':\n",
    "            n = n+math.pow(2, i)\n",
    "    return int(n)\n",
    "\n",
    "\n",
    "# value input\n",
    "x = '0001001'\n",
    "\n",
    "# call the function\n",
    "print(Elias_Gamma_Decoding(x))\n"
   ]
  },
  {
   "cell_type": "code",
   "execution_count": null,
   "id": "da349d87",
   "metadata": {},
   "outputs": [],
   "source": []
  }
 ],
 "metadata": {
  "kernelspec": {
   "display_name": "Python 3",
   "language": "python",
   "name": "python3"
  },
  "language_info": {
   "codemirror_mode": {
    "name": "ipython",
    "version": 3
   },
   "file_extension": ".py",
   "mimetype": "text/x-python",
   "name": "python",
   "nbconvert_exporter": "python",
   "pygments_lexer": "ipython3",
   "version": "3.8.8"
  }
 },
 "nbformat": 4,
 "nbformat_minor": 5
}
