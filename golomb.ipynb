{
 "cells": [
  {
   "cell_type": "code",
   "execution_count": 3,
   "id": "97f9b8ec",
   "metadata": {},
   "outputs": [
    {
     "name": "stdout",
     "output_type": "stream",
     "text": [
      "The golomb code encoding for x = 9 and b = 10 is 11111\n"
     ]
    }
   ],
   "source": [
    "# Python programming for Golomb Encoding\n",
    "import math\n",
    "  \n",
    "# taking input for N and  M where \n",
    "# M == 2 ^ n or M != 2 ^ n\n",
    "N = 8\n",
    "M = 10\n",
    "  \n",
    "# for finding the value of preceding \n",
    "# number of zeros by dividing N by M\n",
    "q = N//M\n",
    "# for computing the remainder of N by M\n",
    "r = N % M\n",
    "  \n",
    "# appending that many numbers of zeros in\n",
    "# starting of the encoded code initially \n",
    "quo ='0'*q+'1'\n",
    "  \n",
    "# for computing the value of b ie floor of \n",
    "# log(M) base 2 which will be used for computing value of k\n",
    "b = math.floor(math.log2(M))\n",
    "k = 2**(b + 1)-M\n",
    "# upon comparing the value of remainder with the \n",
    "# value of k if less we we convert remainder r to \n",
    "# binary and add the value from # index 2 because \n",
    "# at index 0, 1 \"0b\" is present\n",
    "if r < k:\n",
    "    rem = bin(r)[2:]\n",
    "    l = len(rem)\n",
    "      \n",
    "# upon the calculating value of rem if it is less than\n",
    "# computed value of b we add b-1 number of zeros in\n",
    "# preceding of the # remainder\n",
    "    if l<b:\n",
    "        rem = '0'*(b-l)+rem\n",
    "else:\n",
    "# we convert remainder r to binary and add the \n",
    "# value from index 2 because at index 0, 1 \"0b\" is present\n",
    "    rem = bin(r + k)[2:]\n",
    "    l = len(rem)\n",
    "# upon calculating value of rem if it is less than\n",
    "# computed value of b we add b-1 number of zeros in\n",
    "# preceding of the # remainder\n",
    "    if l<b + 1:\n",
    "        rem = '0'*(b + 1-l)+rem\n",
    "golomb_code = quo + rem\n",
    "print(\"The golomb code encoding for x = {} and b = {} is {}\".\n",
    "      format(N, M, golomb_code))"
   ]
  },
  {
   "cell_type": "code",
   "execution_count": null,
   "id": "c4d671e0",
   "metadata": {},
   "outputs": [],
   "source": []
  }
 ],
 "metadata": {
  "kernelspec": {
   "display_name": "Python 3",
   "language": "python",
   "name": "python3"
  },
  "language_info": {
   "codemirror_mode": {
    "name": "ipython",
    "version": 3
   },
   "file_extension": ".py",
   "mimetype": "text/x-python",
   "name": "python",
   "nbconvert_exporter": "python",
   "pygments_lexer": "ipython3",
   "version": "3.8.8"
  }
 },
 "nbformat": 4,
 "nbformat_minor": 5
}
