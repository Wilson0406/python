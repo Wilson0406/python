{
 "cells": [
  {
   "cell_type": "code",
   "execution_count": 2,
   "id": "fe440767",
   "metadata": {},
   "outputs": [
    {
     "name": "stdout",
     "output_type": "stream",
     "text": [
      "Enter code: 01101\n",
      "Original Number:  5\n"
     ]
    }
   ],
   "source": [
    "import math\n",
    "\n",
    "def decode(x):\n",
    "    num=0;\n",
    "    for i in range(len(x)):\n",
    "        num+=(int(x[len(x)-1-i])*(math.pow(2,i)));\n",
    "    return num;\n",
    "\n",
    "x=str(input('Enter code: '));\n",
    "if(x=='1'):\n",
    "    print('1');\n",
    "    exit;\n",
    "else:\n",
    "    x=list(x);\n",
    "    t=0;    \n",
    "    v=[];\n",
    "    b=0;\n",
    "    w=[];\n",
    "    c=0;\n",
    "    for i in x:\n",
    "        if(b!=1):\n",
    "            if(i=='0'):\n",
    "                t+=1;\n",
    "            else:\n",
    "                v.append(i);\n",
    "                b=1;\n",
    "        elif(c!=1):\n",
    "            if(t==0):\n",
    "                c=1;\n",
    "                w.append('1');\n",
    "                w.append(i);\n",
    "            else:\n",
    "                v.append(i);\n",
    "                t-=1;\n",
    "        else:\n",
    "            num=decode(v);\n",
    "            if(num==0):\n",
    "                break;\n",
    "            else:\n",
    "                w.append(i);\n",
    "                num-=1;\n",
    "    ans=decode(w);\n",
    "    print('Original Number: ',int(ans));\n",
    "\n",
    "\n"
   ]
  },
  {
   "cell_type": "code",
   "execution_count": null,
   "id": "57822278",
   "metadata": {},
   "outputs": [],
   "source": []
  }
 ],
 "metadata": {
  "kernelspec": {
   "display_name": "Python 3",
   "language": "python",
   "name": "python3"
  },
  "language_info": {
   "codemirror_mode": {
    "name": "ipython",
    "version": 3
   },
   "file_extension": ".py",
   "mimetype": "text/x-python",
   "name": "python",
   "nbconvert_exporter": "python",
   "pygments_lexer": "ipython3",
   "version": "3.8.8"
  }
 },
 "nbformat": 4,
 "nbformat_minor": 5
}
