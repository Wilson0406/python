{
 "cells": [
  {
   "cell_type": "code",
   "execution_count": 1,
   "id": "8be33b06",
   "metadata": {},
   "outputs": [
    {
     "name": "stdout",
     "output_type": "stream",
     "text": [
      "0001010\n"
     ]
    }
   ],
   "source": [
    "# Python3 implementation\n",
    "from math import log\n",
    "\n",
    "log2 = lambda x: log(x, 2)\n",
    "\n",
    "def Unary(x):\n",
    "    return (x-1)*'0'+'1'\n",
    "\n",
    "def Binary(x, l = 1):\n",
    "    s = '{0:0%db}' % l\n",
    "    return s.format(x)\n",
    "    \n",
    "def Elias_Gamma(x):\n",
    "    if(x == 0):\n",
    "        return '0'\n",
    "\n",
    "    n = 1 + int(log2(x))\n",
    "    b = x - 2**(int(log2(x)))\n",
    "\n",
    "    l = int(log2(x))\n",
    "\n",
    "    return Unary(n) + Binary(b, l)\n",
    "    \n",
    "print(Elias_Gamma(10))\n"
   ]
  },
  {
   "cell_type": "code",
   "execution_count": null,
   "id": "d258132c",
   "metadata": {},
   "outputs": [],
   "source": []
  }
 ],
 "metadata": {
  "kernelspec": {
   "display_name": "Python 3",
   "language": "python",
   "name": "python3"
  },
  "language_info": {
   "codemirror_mode": {
    "name": "ipython",
    "version": 3
   },
   "file_extension": ".py",
   "mimetype": "text/x-python",
   "name": "python",
   "nbconvert_exporter": "python",
   "pygments_lexer": "ipython3",
   "version": "3.8.8"
  }
 },
 "nbformat": 4,
 "nbformat_minor": 5
}
