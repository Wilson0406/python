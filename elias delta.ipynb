{
 "cells": [
  {
   "cell_type": "code",
   "execution_count": 1,
   "id": "da74c313",
   "metadata": {},
   "outputs": [
    {
     "name": "stdout",
     "output_type": "stream",
     "text": [
      "Enter a number: 5\n",
      "Elias Delta Code: 01101\n"
     ]
    }
   ],
   "source": [
    "import math\n",
    "\n",
    "def gamma(t):\n",
    "    x=[];\n",
    "    y=[];\n",
    "    while(t>0):\n",
    "        x.append(t%2);\n",
    "        t=int(t/2);\n",
    "    for i in range(len(x)-1):\n",
    "        y.append(0);\n",
    "    for i in range(len(x)):\n",
    "        y.append(x.pop());\n",
    "    return y;\n",
    " \n",
    "\n",
    "x=int(input('Enter a number: '));\n",
    "t=math.floor(1+math.log(x,2));\n",
    "p=gamma(t);\n",
    "y=[];\n",
    "while(x>0):\n",
    "    y.append(x%2);\n",
    "    x=int(x/2);\n",
    "y.pop();\n",
    "for i in range(len(y)):\n",
    "    p.append(y.pop());\n",
    "a=''.join(map(str,p));\n",
    "print('Elias Delta Code: '+a)\n"
   ]
  },
  {
   "cell_type": "code",
   "execution_count": null,
   "id": "868835e7",
   "metadata": {},
   "outputs": [],
   "source": []
  }
 ],
 "metadata": {
  "kernelspec": {
   "display_name": "Python 3",
   "language": "python",
   "name": "python3"
  },
  "language_info": {
   "codemirror_mode": {
    "name": "ipython",
    "version": 3
   },
   "file_extension": ".py",
   "mimetype": "text/x-python",
   "name": "python",
   "nbconvert_exporter": "python",
   "pygments_lexer": "ipython3",
   "version": "3.8.8"
  }
 },
 "nbformat": 4,
 "nbformat_minor": 5
}
