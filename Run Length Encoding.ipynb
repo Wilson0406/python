{
 "cells": [
  {
   "cell_type": "code",
   "execution_count": 1,
   "id": "91c53423",
   "metadata": {},
   "outputs": [
    {
     "name": "stdout",
     "output_type": "stream",
     "text": [
      "w6a5d1e1p10\n"
     ]
    }
   ],
   "source": [
    "def encode(msg):\n",
    "    count = 0\n",
    "    character = ''\n",
    "    previous_ch = msg[0]\n",
    "    result = ''\n",
    "    length = len(msg)\n",
    "    \n",
    "    i=0\n",
    "    while(i != length):\n",
    "        character = msg[i]\n",
    "        \n",
    "        if previous_ch == character:\n",
    "            count = count + 1\n",
    "        else:\n",
    "            result = result + previous_ch + str(count)\n",
    "            count = 1\n",
    "        previous_ch = character\n",
    "        i = i + 1\n",
    "    \n",
    "    return result + str(previous_ch) + str(count)\n",
    "\n",
    "\n",
    "encoded_msg = encode(\"wwwwwwaaaaadepppppppppp\")\n",
    "print(encoded_msg)"
   ]
  },
  {
   "cell_type": "code",
   "execution_count": null,
   "id": "6920dd8c",
   "metadata": {},
   "outputs": [],
   "source": []
  }
 ],
 "metadata": {
  "kernelspec": {
   "display_name": "Python 3",
   "language": "python",
   "name": "python3"
  },
  "language_info": {
   "codemirror_mode": {
    "name": "ipython",
    "version": 3
   },
   "file_extension": ".py",
   "mimetype": "text/x-python",
   "name": "python",
   "nbconvert_exporter": "python",
   "pygments_lexer": "ipython3",
   "version": "3.8.8"
  }
 },
 "nbformat": 4,
 "nbformat_minor": 5
}
