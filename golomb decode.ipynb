{
 "cells": [
  {
   "cell_type": "code",
   "execution_count": null,
   "id": "b6b25d79",
   "metadata": {},
   "outputs": [],
   "source": [
    "import math\n",
    "\n",
    "def decode(x):\n",
    "    num=0;\n",
    "    for i in range(len(x)):\n",
    "        num+=(int(x[len(x)-1-i])*(math.pow(2,i)));\n",
    "    return num;\n",
    "\n",
    "x=str(input('Enter code: '))\n",
    "x=list(x)\n",
    "b=int(input('Enter value of b: '))\n",
    "i=math.floor(math.log(b,2))\n",
    "d=math.pow(2,i+1)-b\n",
    "\n",
    "\n",
    "p2=0;\n",
    "l=1;\n",
    "while(p2<len(x)):\n",
    "    t=0;\n",
    "    flag=0;\n",
    "    r=[];\n",
    "    k=i;\n",
    "    q=0;\n",
    "    for p in range(p2,len(x)):\n",
    "        if(x[p]=='0' and flag==0):\n",
    "            t+=1;\n",
    "            continue;\n",
    "        if(x[p]=='1' and flag==0):\n",
    "            q=t;\n",
    "            flag=1;\n",
    "            continue;\n",
    "        r.append(x[p]);\n",
    "        k-=1;\n",
    "        if(k==0):\n",
    "            rnum=decode(r);\n",
    "            if(rnum<d):\n",
    "                p2=p+1;\n",
    "                break;\n",
    "        if(k==-1):\n",
    "            rnum=decode(r);\n",
    "            rnum=rnum-d;\n",
    "            p2=p+1;\n",
    "            break;\n",
    "    ans=q*b+rnum;\n",
    "    print(ans);\n",
    "    l=0;\n",
    "    \n",
    "    \n"
   ]
  },
  {
   "cell_type": "code",
   "execution_count": null,
   "id": "3a049fb8",
   "metadata": {},
   "outputs": [],
   "source": []
  },
  {
   "cell_type": "code",
   "execution_count": null,
   "id": "f6abe71d",
   "metadata": {},
   "outputs": [],
   "source": []
  }
 ],
 "metadata": {
  "kernelspec": {
   "display_name": "Python 3",
   "language": "python",
   "name": "python3"
  },
  "language_info": {
   "codemirror_mode": {
    "name": "ipython",
    "version": 3
   },
   "file_extension": ".py",
   "mimetype": "text/x-python",
   "name": "python",
   "nbconvert_exporter": "python",
   "pygments_lexer": "ipython3",
   "version": "3.8.8"
  }
 },
 "nbformat": 4,
 "nbformat_minor": 5
}
